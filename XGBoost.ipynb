{
 "cells": [
  {
   "cell_type": "markdown",
   "id": "c9237c46",
   "metadata": {},
   "source": [
    "# Извлечение признаков и балансировка"
   ]
  },
  {
   "cell_type": "code",
   "execution_count": 1,
   "id": "42df98f5",
   "metadata": {
    "scrolled": true
   },
   "outputs": [
    {
     "name": "stderr",
     "output_type": "stream",
     "text": [
      "/Users/midasxlr/anaconda3/lib/python3.11/site-packages/librosa/core/spectrum.py:257: UserWarning: n_fft=2048 is too large for input signal of length=478\n",
      "  warnings.warn(\n",
      "/Users/midasxlr/anaconda3/lib/python3.11/site-packages/librosa/core/pitch.py:101: UserWarning: Trying to estimate tuning from empty frequency set.\n",
      "  return pitch_tuning(\n",
      "/var/folders/7m/qr8d586122zcnb2d14b1c1480000gn/T/ipykernel_70095/3894666072.py:13: UserWarning: PySoundFile failed. Trying audioread instead.\n",
      "  audio, sr = librosa.load(file_path, sr=None, duration=duration, offset=offset)\n",
      "/Users/midasxlr/anaconda3/lib/python3.11/site-packages/librosa/core/audio.py:183: FutureWarning: librosa.core.audio.__audioread_load\n",
      "\tDeprecated as of librosa version 0.10.0.\n",
      "\tIt will be removed in librosa version 1.0.\n",
      "  y, sr_native = __audioread_load(path, offset, duration, dtype)\n"
     ]
    },
    {
     "name": "stdout",
     "output_type": "stream",
     "text": [
      "Точность модели на тестовых данных: 0.9989411266412537\n",
      "\n",
      "Отчет о классификации на несбалансированных данных:\n",
      "              precision    recall  f1-score   support\n",
      "\n",
      "           0       1.00      1.00      1.00      4152\n",
      "           1       1.00      0.99      1.00       570\n",
      "\n",
      "    accuracy                           1.00      4722\n",
      "   macro avg       1.00      1.00      1.00      4722\n",
      "weighted avg       1.00      1.00      1.00      4722\n",
      "\n",
      "\n",
      "Точность модели на тестовых данных сбалансированными данными: 0.9896230410842863\n",
      "\n",
      "Отчет о классификации на сбалансированных данных:\n",
      "              precision    recall  f1-score   support\n",
      "\n",
      "           0       1.00      0.99      0.99      4152\n",
      "           1       0.92      1.00      0.96       570\n",
      "\n",
      "    accuracy                           0.99      4722\n",
      "   macro avg       0.96      0.99      0.98      4722\n",
      "weighted avg       0.99      0.99      0.99      4722\n",
      "\n"
     ]
    }
   ],
   "source": [
    "import os\n",
    "import librosa\n",
    "import numpy as np\n",
    "from sklearn.model_selection import train_test_split\n",
    "from sklearn.metrics import accuracy_score, classification_report\n",
    "import xgboost as xgb\n",
    "from imblearn.under_sampling import RandomUnderSampler\n",
    "from imblearn.over_sampling import RandomOverSampler\n",
    "\n",
    "def extract_features(file_path, duration=1, offset=0.25):\n",
    "    features = []\n",
    "    audio, sr = librosa.load(file_path, sr=None, duration=duration, offset=offset)\n",
    "    \n",
    "    num_segments = int(np.ceil(len(audio) / (sr * duration)))\n",
    "    \n",
    "    for i in range(num_segments):\n",
    "        start = int(sr * duration * i)\n",
    "        end = int(min(len(audio), sr * duration * (i + 1)))\n",
    "        \n",
    "        segment = audio[start:end] \n",
    "        \n",
    "        mfccs = librosa.feature.mfcc(y=segment, sr=sr)\n",
    "        chroma = librosa.feature.chroma_stft(y=segment, sr=sr)\n",
    "        mel = librosa.feature.melspectrogram(y=segment, sr=sr)\n",
    "        contrast = librosa.feature.spectral_contrast(y=segment, sr=sr, fmin=100.0, n_bands=6)\n",
    "        \n",
    "        features.append(np.mean(mfccs, axis=1))\n",
    "        features.append(np.mean(chroma, axis=1))\n",
    "        features.append(np.mean(mel, axis=1))\n",
    "        features.append(np.mean(contrast, axis=1))\n",
    "    \n",
    "    if len(features) > 0:\n",
    "        return np.concatenate(features)\n",
    "    else:\n",
    "        return None\n",
    "\n",
    "\n",
    "data_dir = '/Users/midasxlr/Desktop/DroneAudioDataset-master'\n",
    "\n",
    "features = []\n",
    "labels = []\n",
    "\n",
    "duration = 1  # длина окна в секундах\n",
    "offset = 0.5  # шаг прохода окна в секундах\n",
    "\n",
    "for root, dirs, files in os.walk(data_dir):\n",
    "    base_dir = os.path.basename(root)\n",
    "    if base_dir in [\"yes_drone\", \"bebop_1\", \"membo_1\",\"Micro\"]:\n",
    "        label = 1  # Звук дрона\n",
    "    elif base_dir == \"unknown\":\n",
    "        label = 0\n",
    "        \n",
    "        \n",
    "    for file in files:\n",
    "        if file.endswith(\".wav\"):\n",
    "            file_path = os.path.join(root, file)\n",
    "            feature = extract_features(file_path, duration, offset)\n",
    "            if feature is not None:\n",
    "                features.append(feature)\n",
    "                labels.append(label)\n",
    "\n",
    "                \n",
    "X = np.array(features)\n",
    "y = np.array(labels)\n",
    "\n",
    "# Разбиение на тренировочный и тестовый наборы данных\n",
    "X_train, X_test, y_train, y_test = train_test_split(X, y, test_size=0.2, random_state=108)\n",
    "\n",
    "# Создание объекта RandomUnderSampler для undersampling\n",
    "under_sampler = RandomUnderSampler(sampling_strategy='majority', random_state=108)\n",
    "\n",
    "# Применение undersampling к тренировочным данным\n",
    "X_resampled_under, y_resampled_under = under_sampler.fit_resample(X_train, y_train)\n",
    "\n",
    "# Создание объекта RandomOverSampler для oversampling\n",
    "over_sampler = RandomOverSampler(sampling_strategy='minority', random_state=108)\n",
    "\n",
    "# Применение oversampling к данным после undersampling\n",
    "X_resampled, y_resampled = over_sampler.fit_resample(X_resampled_under, y_resampled_under)\n",
    "\n",
    "# Обучение модели на несбалансированных данных\n",
    "model = xgb.XGBClassifier()\n",
    "model.fit(X_train, y_train)\n",
    "\n",
    "# Предсказание на тестовых данных\n",
    "y_pred = model.predict(X_test)\n",
    "\n",
    "# Оценка точности на тестовом наборе данных\n",
    "accuracy = accuracy_score(y_test, y_pred)\n",
    "print(\"Точность модели на тестовых данных:\", accuracy)\n",
    "\n",
    "# Вывод отчета о классификации\n",
    "print(\"\\nОтчет о классификации на несбалансированных данных:\")\n",
    "print(classification_report(y_test, y_pred))\n",
    "\n",
    "# Обучение модели на сбалансированных данных\n",
    "model_resampled = xgb.XGBClassifier()\n",
    "model_resampled.fit(X_resampled, y_resampled)\n",
    "\n",
    "# Предсказание на тестовых данных\n",
    "y_pred_resampled = model_resampled.predict(X_test)\n",
    "\n",
    "# Оценка точности на тестовом наборе данных\n",
    "accuracy_resampled = accuracy_score(y_test, y_pred_resampled)\n",
    "print(\"\\nТочность модели на тестовых данных сбалансированными данными:\", accuracy_resampled)\n",
    "\n",
    "# Вывод отчета о классификации\n",
    "print(\"\\nОтчет о классификации на сбалансированных данных:\")\n",
    "print(classification_report(y_test, y_pred_resampled))\n"
   ]
  },
  {
   "cell_type": "markdown",
   "id": "b7387c75",
   "metadata": {},
   "source": [
    "# Создание и сохранение модели"
   ]
  },
  {
   "cell_type": "code",
   "execution_count": 2,
   "id": "58bb6b9e",
   "metadata": {},
   "outputs": [
    {
     "name": "stdout",
     "output_type": "stream",
     "text": [
      "Модель сохранена по пути: /Users/midasxlr/Desktop/New_side_model0.5\n"
     ]
    },
    {
     "name": "stderr",
     "output_type": "stream",
     "text": [
      "/Users/midasxlr/anaconda3/lib/python3.11/site-packages/xgboost/core.py:160: UserWarning: [20:00:49] WARNING: /Users/runner/work/xgboost/xgboost/src/c_api/c_api.cc:1240: Saving into deprecated binary model format, please consider using `json` or `ubj`. Model format will default to JSON in XGBoost 2.2 if not specified.\n",
      "  warnings.warn(smsg, UserWarning)\n"
     ]
    }
   ],
   "source": [
    "import xgboost as xgb\n",
    "\n",
    "model = xgb.XGBClassifier()\n",
    "model.fit(X_train, y_train)\n",
    "\n",
    "model_path = '/Users/midasxlr/Desktop/New_side_model0.5'\n",
    "model.save_model(model_path)\n",
    "\n",
    "print(\"Модель сохранена по пути:\", model_path)"
   ]
  }
 ],
 "metadata": {
  "kernelspec": {
   "display_name": "Python 3 (ipykernel)",
   "language": "python",
   "name": "python3"
  },
  "language_info": {
   "codemirror_mode": {
    "name": "ipython",
    "version": 3
   },
   "file_extension": ".py",
   "mimetype": "text/x-python",
   "name": "python",
   "nbconvert_exporter": "python",
   "pygments_lexer": "ipython3",
   "version": "3.11.6"
  }
 },
 "nbformat": 4,
 "nbformat_minor": 5
}
